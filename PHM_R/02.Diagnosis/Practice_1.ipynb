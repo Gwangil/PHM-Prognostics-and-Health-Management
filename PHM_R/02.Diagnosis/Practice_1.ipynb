{
 "cells": [
  {
   "cell_type": "markdown",
   "metadata": {},
   "source": [
    "###### The original MATLAB code was developed by Prof. Hyunseok Oh (Gwangju Institute of Science and Technology, South Korea, hsoh@gist.ac.kr)."
   ]
  },
  {
   "cell_type": "markdown",
   "metadata": {},
   "source": [
    "# Feature Extraction"
   ]
  },
  {
   "cell_type": "code",
   "execution_count": 1,
   "metadata": {},
   "outputs": [],
   "source": [
    "##### Add subfunction ----------------------------------------------------------------------------\n",
    "source('subfunction/positiveFFT.R')\n",
    "source('subfunction/Find_Freqmagnitude.R')\n",
    "source('subfunction/Make_Featureset.R')"
   ]
  },
  {
   "cell_type": "code",
   "execution_count": 3,
   "metadata": {},
   "outputs": [],
   "source": [
    "##### Data load ----------------------------------------------------------------------------------\n",
    "unbalance <- R.matlab::readMat('../data_files/unbalance.mat')$unbalance\n",
    "misalign <- R.matlab::readMat('../data_files/misalign.mat')$misalign\n",
    "outer <- R.matlab::readMat('../data_files/outerrace_fault.mat')$outer\n",
    "inner <- R.matlab::readMat('../data_files/innerrace_fault.mat')$inner"
   ]
  },
  {
   "cell_type": "code",
   "execution_count": 4,
   "metadata": {},
   "outputs": [],
   "source": [
    "Time <- unbalance[, 1]\n",
    "N = length(Time) / 10  # divide to 10 split(1 sec * 10)\n",
    "unbalance02 <- {}\n",
    "\n",
    "Fs <- 5120\n",
    "k <- 0:(N - 1)\n",
    "P <- N / Fs  # period = 1 / frequency\n",
    "freq <- k[1:ceiling(N / 2)] / P\n",
    "\n",
    "Freq_unbalance02 <- {}\n",
    "for (i in 1:10) {\n",
    "  temp_data02 <- unbalance[((i - 1) * N + 1):(i * N), 2]\n",
    "  unbalance02 <- cbind(unbalance02, temp_data02)\n",
    "  Freq_unbalance02 <- cbind(Freq_unbalance02, positiveFFT(temp_data02, Fs))\n",
    "}"
   ]
  },
  {
   "cell_type": "code",
   "execution_count": 5,
   "metadata": {},
   "outputs": [],
   "source": [
    "# Time-domain health features\n",
    "TF_Max <- apply(unbalance02, 2, max)\n",
    "TF_Mean <- colMeans(unbalance02)\n",
    "TF_RMS <- apply(unbalance02, 2, function(x) sqrt(mean(x ^ 2)))\n",
    "TF_Skewness <- moments::skewness(unbalance02)\n",
    "TF_Kurtosis <- moments::kurtosis(unbalance02)\n",
    "TF_CrestFactor <- TF_Max / TF_RMS\n",
    "TF_ShapeFactor <- TF_Max / TF_Mean\n",
    "TF_ImpulseFactor <- TF_RMS / TF_Mean\n",
    "\n",
    "Time_Featureset <- cbind(TF_Max, TF_Mean, TF_RMS, TF_Skewness, TF_Kurtosis,\n",
    "                         TF_CrestFactor, TF_ShapeFactor, TF_ImpulseFactor)"
   ]
  },
  {
   "cell_type": "code",
   "execution_count": 6,
   "metadata": {
    "scrolled": true
   },
   "outputs": [
    {
     "data": {
      "text/html": [
       "<table>\n",
       "<thead><tr><th></th><th scope=col>TF_Max</th><th scope=col>TF_Mean</th><th scope=col>TF_RMS</th><th scope=col>TF_Skewness</th><th scope=col>TF_Kurtosis</th><th scope=col>TF_CrestFactor</th><th scope=col>TF_ShapeFactor</th><th scope=col>TF_ImpulseFactor</th></tr></thead>\n",
       "<tbody>\n",
       "\t<tr><th scope=row>temp_data02</th><td>0.6872157  </td><td>0.002612340</td><td>0.2515242  </td><td>-0.1608559 </td><td>2.602627   </td><td>2.732205   </td><td>263.06522  </td><td> 96.28313  </td></tr>\n",
       "\t<tr><th scope=row>temp_data02</th><td>0.5983858  </td><td>0.006449014</td><td>0.2374259  </td><td>-0.2184838 </td><td>2.420470   </td><td>2.520305   </td><td> 92.78718  </td><td> 36.81585  </td></tr>\n",
       "\t<tr><th scope=row>temp_data02</th><td>0.6043004  </td><td>0.007923288</td><td>0.2373216  </td><td>-0.2149297 </td><td>2.468927   </td><td>2.546336   </td><td> 76.26890  </td><td> 29.95241  </td></tr>\n",
       "\t<tr><th scope=row>temp_data02</th><td>0.6743609  </td><td>0.008115311</td><td>0.2533792  </td><td>-0.1803572 </td><td>2.604153   </td><td>2.661470   </td><td> 83.09736  </td><td> 31.22236  </td></tr>\n",
       "\t<tr><th scope=row>temp_data02</th><td>0.5986238  </td><td>0.007099021</td><td>0.2440969  </td><td>-0.1917067 </td><td>2.426332   </td><td>2.452402   </td><td> 84.32485  </td><td> 34.38459  </td></tr>\n",
       "\t<tr><th scope=row>temp_data02</th><td>0.6518498  </td><td>0.004353759</td><td>0.2439174  </td><td>-0.2294876 </td><td>2.468173   </td><td>2.672420   </td><td>149.72113  </td><td> 56.02456  </td></tr>\n",
       "\t<tr><th scope=row>temp_data02</th><td>0.6260913  </td><td>0.002397111</td><td>0.2465280  </td><td>-0.1811897 </td><td>2.583367   </td><td>2.539636   </td><td>261.18583  </td><td>102.84380  </td></tr>\n",
       "\t<tr><th scope=row>temp_data02</th><td>0.5613108  </td><td>0.002325913</td><td>0.2405842  </td><td>-0.2208770 </td><td>2.419844   </td><td>2.333116   </td><td>241.32918  </td><td>103.43643  </td></tr>\n",
       "\t<tr><th scope=row>temp_data02</th><td>0.6051062  </td><td>0.002986301</td><td>0.2459793  </td><td>-0.1794789 </td><td>2.532991   </td><td>2.459988   </td><td>202.62735  </td><td> 82.36924  </td></tr>\n",
       "\t<tr><th scope=row>temp_data02</th><td>0.6615366  </td><td>0.002448249</td><td>0.2437932  </td><td>-0.1766365 </td><td>2.567290   </td><td>2.713515   </td><td>270.20811  </td><td> 99.57862  </td></tr>\n",
       "</tbody>\n",
       "</table>\n"
      ],
      "text/latex": [
       "\\begin{tabular}{r|llllllll}\n",
       "  & TF\\_Max & TF\\_Mean & TF\\_RMS & TF\\_Skewness & TF\\_Kurtosis & TF\\_CrestFactor & TF\\_ShapeFactor & TF\\_ImpulseFactor\\\\\n",
       "\\hline\n",
       "\ttemp\\_data02 & 0.6872157   & 0.002612340 & 0.2515242   & -0.1608559  & 2.602627    & 2.732205    & 263.06522   &  96.28313  \\\\\n",
       "\ttemp\\_data02 & 0.5983858   & 0.006449014 & 0.2374259   & -0.2184838  & 2.420470    & 2.520305    &  92.78718   &  36.81585  \\\\\n",
       "\ttemp\\_data02 & 0.6043004   & 0.007923288 & 0.2373216   & -0.2149297  & 2.468927    & 2.546336    &  76.26890   &  29.95241  \\\\\n",
       "\ttemp\\_data02 & 0.6743609   & 0.008115311 & 0.2533792   & -0.1803572  & 2.604153    & 2.661470    &  83.09736   &  31.22236  \\\\\n",
       "\ttemp\\_data02 & 0.5986238   & 0.007099021 & 0.2440969   & -0.1917067  & 2.426332    & 2.452402    &  84.32485   &  34.38459  \\\\\n",
       "\ttemp\\_data02 & 0.6518498   & 0.004353759 & 0.2439174   & -0.2294876  & 2.468173    & 2.672420    & 149.72113   &  56.02456  \\\\\n",
       "\ttemp\\_data02 & 0.6260913   & 0.002397111 & 0.2465280   & -0.1811897  & 2.583367    & 2.539636    & 261.18583   & 102.84380  \\\\\n",
       "\ttemp\\_data02 & 0.5613108   & 0.002325913 & 0.2405842   & -0.2208770  & 2.419844    & 2.333116    & 241.32918   & 103.43643  \\\\\n",
       "\ttemp\\_data02 & 0.6051062   & 0.002986301 & 0.2459793   & -0.1794789  & 2.532991    & 2.459988    & 202.62735   &  82.36924  \\\\\n",
       "\ttemp\\_data02 & 0.6615366   & 0.002448249 & 0.2437932   & -0.1766365  & 2.567290    & 2.713515    & 270.20811   &  99.57862  \\\\\n",
       "\\end{tabular}\n"
      ],
      "text/markdown": [
       "\n",
       "| <!--/--> | TF_Max | TF_Mean | TF_RMS | TF_Skewness | TF_Kurtosis | TF_CrestFactor | TF_ShapeFactor | TF_ImpulseFactor |\n",
       "|---|---|---|---|---|---|---|---|---|\n",
       "| temp_data02 | 0.6872157   | 0.002612340 | 0.2515242   | -0.1608559  | 2.602627    | 2.732205    | 263.06522   |  96.28313   |\n",
       "| temp_data02 | 0.5983858   | 0.006449014 | 0.2374259   | -0.2184838  | 2.420470    | 2.520305    |  92.78718   |  36.81585   |\n",
       "| temp_data02 | 0.6043004   | 0.007923288 | 0.2373216   | -0.2149297  | 2.468927    | 2.546336    |  76.26890   |  29.95241   |\n",
       "| temp_data02 | 0.6743609   | 0.008115311 | 0.2533792   | -0.1803572  | 2.604153    | 2.661470    |  83.09736   |  31.22236   |\n",
       "| temp_data02 | 0.5986238   | 0.007099021 | 0.2440969   | -0.1917067  | 2.426332    | 2.452402    |  84.32485   |  34.38459   |\n",
       "| temp_data02 | 0.6518498   | 0.004353759 | 0.2439174   | -0.2294876  | 2.468173    | 2.672420    | 149.72113   |  56.02456   |\n",
       "| temp_data02 | 0.6260913   | 0.002397111 | 0.2465280   | -0.1811897  | 2.583367    | 2.539636    | 261.18583   | 102.84380   |\n",
       "| temp_data02 | 0.5613108   | 0.002325913 | 0.2405842   | -0.2208770  | 2.419844    | 2.333116    | 241.32918   | 103.43643   |\n",
       "| temp_data02 | 0.6051062   | 0.002986301 | 0.2459793   | -0.1794789  | 2.532991    | 2.459988    | 202.62735   |  82.36924   |\n",
       "| temp_data02 | 0.6615366   | 0.002448249 | 0.2437932   | -0.1766365  | 2.567290    | 2.713515    | 270.20811   |  99.57862   |\n",
       "\n"
      ],
      "text/plain": [
       "            TF_Max    TF_Mean     TF_RMS    TF_Skewness TF_Kurtosis\n",
       "temp_data02 0.6872157 0.002612340 0.2515242 -0.1608559  2.602627   \n",
       "temp_data02 0.5983858 0.006449014 0.2374259 -0.2184838  2.420470   \n",
       "temp_data02 0.6043004 0.007923288 0.2373216 -0.2149297  2.468927   \n",
       "temp_data02 0.6743609 0.008115311 0.2533792 -0.1803572  2.604153   \n",
       "temp_data02 0.5986238 0.007099021 0.2440969 -0.1917067  2.426332   \n",
       "temp_data02 0.6518498 0.004353759 0.2439174 -0.2294876  2.468173   \n",
       "temp_data02 0.6260913 0.002397111 0.2465280 -0.1811897  2.583367   \n",
       "temp_data02 0.5613108 0.002325913 0.2405842 -0.2208770  2.419844   \n",
       "temp_data02 0.6051062 0.002986301 0.2459793 -0.1794789  2.532991   \n",
       "temp_data02 0.6615366 0.002448249 0.2437932 -0.1766365  2.567290   \n",
       "            TF_CrestFactor TF_ShapeFactor TF_ImpulseFactor\n",
       "temp_data02 2.732205       263.06522       96.28313       \n",
       "temp_data02 2.520305        92.78718       36.81585       \n",
       "temp_data02 2.546336        76.26890       29.95241       \n",
       "temp_data02 2.661470        83.09736       31.22236       \n",
       "temp_data02 2.452402        84.32485       34.38459       \n",
       "temp_data02 2.672420       149.72113       56.02456       \n",
       "temp_data02 2.539636       261.18583      102.84380       \n",
       "temp_data02 2.333116       241.32918      103.43643       \n",
       "temp_data02 2.459988       202.62735       82.36924       \n",
       "temp_data02 2.713515       270.20811       99.57862       "
      ]
     },
     "metadata": {},
     "output_type": "display_data"
    }
   ],
   "source": [
    "Time_Featureset"
   ]
  },
  {
   "cell_type": "code",
   "execution_count": 10,
   "metadata": {},
   "outputs": [],
   "source": [
    "# Freq.-domain health features\n",
    "RPM <- 3600\n",
    "Freq_1x <- RPM / 60\n",
    "theta <- 0  # Angular (degrees)\n",
    "Bd <- 6.747  # Ball diameter (mm)\n",
    "Pd <- 28.5  # Pitch diameter (mm)\n",
    "N <- 8  # Number of bearing ball\n",
    "FTF <- (Freq_1x / 2) * (1 - Bd * cos(theta) / Pd)  # Fundamental train Frequency or Cage Frequency\n",
    "BPFI <- (Freq_1x * N / 2) * (1 + Bd * cos(theta) / Pd)  # Ball Pass Frequency of Inner Race\n",
    "BPFO <- (Freq_1x * N / 2) * (1 - Bd * cos(theta) / Pd)  # Ball Pass Frequency of Outer Race\n",
    "BSF <- (Freq_1x * Pd / (2 * Bd)) * (1 - (Bd * cos(theta) / Pd) ^ 2)  # Ball Spin Frequency"
   ]
  },
  {
   "cell_type": "code",
   "execution_count": 11,
   "metadata": {},
   "outputs": [],
   "source": [
    "Magnitude_under0p49x <- Find_Freqmagnitude(0:(Freq_1x * 0.49), freq, Freq_unbalance02)\n",
    "Magnitude_0p51to0p99x <- Find_Freqmagnitude((Freq_1x * 0.51):(Freq_1x * 0.99), freq, Freq_unbalance02)\n",
    "Magnitude_3to5x <- Find_Freqmagnitude((Freq_1x * 3):(Freq_1x * 5), freq, Freq_unbalance02)\n",
    "Magnitude_1to10x <- Find_Freqmagnitude((Freq_1x):(Freq_1x * 10), freq, Freq_unbalance02)\n",
    "Magnitude_FTF <- Find_Freqmagnitude(FTF, freq, Freq_unbalance02)\n",
    "Magnitude_BPFI <- Find_Freqmagnitude(BPFI, freq, Freq_unbalance02)\n",
    "Magnitude_BPFO <- Find_Freqmagnitude(BPFO, freq, Freq_unbalance02)\n",
    "Magnitude_BSF <- Find_Freqmagnitude(BSF, freq, Freq_unbalance02)\n",
    "Magnitude_0p5x <- Find_Freqmagnitude(Freq_1x * 0.5, freq, Freq_unbalance02)\n",
    "Magnitude_1X <- Find_Freqmagnitude(Freq_1x, freq, Freq_unbalance02)\n",
    "Magnitude_2X <- Find_Freqmagnitude(Freq_1x * 2, freq, Freq_unbalance02)\n",
    "Magnitude_3X <- Find_Freqmagnitude(Freq_1x * 3, freq, Freq_unbalance02)\n",
    "Magnitude_5X <- Find_Freqmagnitude(Freq_1x * 5, freq, Freq_unbalance02)\n",
    "Magnitude_7X <- Find_Freqmagnitude(Freq_1x * 7, freq, Freq_unbalance02)\n",
    "Magnitude_9X <- Find_Freqmagnitude(Freq_1x * 9, freq, Freq_unbalance02)"
   ]
  },
  {
   "cell_type": "code",
   "execution_count": 15,
   "metadata": {},
   "outputs": [
    {
     "data": {
      "text/html": [
       "<table>\n",
       "<thead><tr><th scope=col>FF_a</th><th scope=col>FF_b</th><th scope=col>FF_c</th><th scope=col>FF_d</th><th scope=col>FF_e</th><th scope=col>FF_f</th><th scope=col>FF_g</th><th scope=col>FF_h</th><th scope=col>FF_FTF</th><th scope=col>FF_BPFI</th><th scope=col>FF_BPFO</th><th scope=col>FF_BSF</th></tr></thead>\n",
       "<tbody>\n",
       "\t<tr><td>0.01277658  </td><td>0.11592280  </td><td>0.06559776  </td><td>0.07159565  </td><td>0.7507004   </td><td>0.8163060   </td><td>6.425234    </td><td>0.4191231   </td><td>0.0020721861</td><td>0.013422324 </td><td>0.2195551   </td><td>0.009591382 </td></tr>\n",
       "\t<tr><td>0.01181285  </td><td>0.14281229  </td><td>0.02650091  </td><td>0.06741297  </td><td>0.6221931   </td><td>0.8309285   </td><td>6.650403    </td><td>0.4071264   </td><td>0.0005439719</td><td>0.011624367 </td><td>0.2168728   </td><td>0.007349873 </td></tr>\n",
       "\t<tr><td>0.01234337  </td><td>0.11333042  </td><td>0.10857923  </td><td>0.07146418  </td><td>0.7722869   </td><td>0.7558330   </td><td>7.353509    </td><td>0.3647518   </td><td>0.0007013515</td><td>0.007229164 </td><td>0.2513442   </td><td>0.009532621 </td></tr>\n",
       "\t<tr><td>0.01254206  </td><td>0.15690694  </td><td>0.13540159  </td><td>0.11413795  </td><td>0.7207096   </td><td>0.7672491   </td><td>7.648861    </td><td>0.3950344   </td><td>0.0011519443</td><td>0.007412825 </td><td>0.2740114   </td><td>0.009039179 </td></tr>\n",
       "\t<tr><td>0.01153667  </td><td>0.12844015  </td><td>0.03406002  </td><td>0.05990051  </td><td>0.6666423   </td><td>0.7752394   </td><td>8.278668    </td><td>0.4104048   </td><td>0.0012156833</td><td>0.006374144 </td><td>0.2824273   </td><td>0.007690832 </td></tr>\n",
       "\t<tr><td>0.01312783  </td><td>0.13579590  </td><td>0.12822139  </td><td>0.13025176  </td><td>0.6038864   </td><td>0.6611322   </td><td>7.179871    </td><td>0.3478556   </td><td>0.0003779983</td><td>0.007195051 </td><td>0.2878441   </td><td>0.007927715 </td></tr>\n",
       "\t<tr><td>0.01246669  </td><td>0.09664900  </td><td>0.03635899  </td><td>0.07133786  </td><td>0.6217167   </td><td>0.7292640   </td><td>7.606843    </td><td>0.3739359   </td><td>0.0011768713</td><td>0.009122198 </td><td>0.2679756   </td><td>0.007750752 </td></tr>\n",
       "\t<tr><td>0.01138818  </td><td>0.13320349  </td><td>0.09471857  </td><td>0.09254904  </td><td>0.6275001   </td><td>0.7094455   </td><td>8.190392    </td><td>0.3887325   </td><td>0.0007248655</td><td>0.007199295 </td><td>0.2834573   </td><td>0.007146086 </td></tr>\n",
       "\t<tr><td>0.01300788  </td><td>0.09371948  </td><td>0.06258517  </td><td>0.06702540  </td><td>0.5750127   </td><td>0.7264565   </td><td>7.232555    </td><td>0.3632571   </td><td>0.0005733854</td><td>0.007528219 </td><td>0.2714480   </td><td>0.007479694 </td></tr>\n",
       "\t<tr><td>0.01182133  </td><td>0.13039929  </td><td>0.05599733  </td><td>0.08759599  </td><td>0.4438703   </td><td>0.8063149   </td><td>7.693607    </td><td>0.4150746   </td><td>0.0016022912</td><td>0.010714548 </td><td>0.2491166   </td><td>0.005247137 </td></tr>\n",
       "</tbody>\n",
       "</table>\n"
      ],
      "text/latex": [
       "\\begin{tabular}{llllllllllll}\n",
       " FF\\_a & FF\\_b & FF\\_c & FF\\_d & FF\\_e & FF\\_f & FF\\_g & FF\\_h & FF\\_FTF & FF\\_BPFI & FF\\_BPFO & FF\\_BSF\\\\\n",
       "\\hline\n",
       "\t 0.01277658   & 0.11592280   & 0.06559776   & 0.07159565   & 0.7507004    & 0.8163060    & 6.425234     & 0.4191231    & 0.0020721861 & 0.013422324  & 0.2195551    & 0.009591382 \\\\\n",
       "\t 0.01181285   & 0.14281229   & 0.02650091   & 0.06741297   & 0.6221931    & 0.8309285    & 6.650403     & 0.4071264    & 0.0005439719 & 0.011624367  & 0.2168728    & 0.007349873 \\\\\n",
       "\t 0.01234337   & 0.11333042   & 0.10857923   & 0.07146418   & 0.7722869    & 0.7558330    & 7.353509     & 0.3647518    & 0.0007013515 & 0.007229164  & 0.2513442    & 0.009532621 \\\\\n",
       "\t 0.01254206   & 0.15690694   & 0.13540159   & 0.11413795   & 0.7207096    & 0.7672491    & 7.648861     & 0.3950344    & 0.0011519443 & 0.007412825  & 0.2740114    & 0.009039179 \\\\\n",
       "\t 0.01153667   & 0.12844015   & 0.03406002   & 0.05990051   & 0.6666423    & 0.7752394    & 8.278668     & 0.4104048    & 0.0012156833 & 0.006374144  & 0.2824273    & 0.007690832 \\\\\n",
       "\t 0.01312783   & 0.13579590   & 0.12822139   & 0.13025176   & 0.6038864    & 0.6611322    & 7.179871     & 0.3478556    & 0.0003779983 & 0.007195051  & 0.2878441    & 0.007927715 \\\\\n",
       "\t 0.01246669   & 0.09664900   & 0.03635899   & 0.07133786   & 0.6217167    & 0.7292640    & 7.606843     & 0.3739359    & 0.0011768713 & 0.009122198  & 0.2679756    & 0.007750752 \\\\\n",
       "\t 0.01138818   & 0.13320349   & 0.09471857   & 0.09254904   & 0.6275001    & 0.7094455    & 8.190392     & 0.3887325    & 0.0007248655 & 0.007199295  & 0.2834573    & 0.007146086 \\\\\n",
       "\t 0.01300788   & 0.09371948   & 0.06258517   & 0.06702540   & 0.5750127    & 0.7264565    & 7.232555     & 0.3632571    & 0.0005733854 & 0.007528219  & 0.2714480    & 0.007479694 \\\\\n",
       "\t 0.01182133   & 0.13039929   & 0.05599733   & 0.08759599   & 0.4438703    & 0.8063149    & 7.693607     & 0.4150746    & 0.0016022912 & 0.010714548  & 0.2491166    & 0.005247137 \\\\\n",
       "\\end{tabular}\n"
      ],
      "text/markdown": [
       "\n",
       "| FF_a | FF_b | FF_c | FF_d | FF_e | FF_f | FF_g | FF_h | FF_FTF | FF_BPFI | FF_BPFO | FF_BSF |\n",
       "|---|---|---|---|---|---|---|---|---|---|---|---|\n",
       "| 0.01277658   | 0.11592280   | 0.06559776   | 0.07159565   | 0.7507004    | 0.8163060    | 6.425234     | 0.4191231    | 0.0020721861 | 0.013422324  | 0.2195551    | 0.009591382  |\n",
       "| 0.01181285   | 0.14281229   | 0.02650091   | 0.06741297   | 0.6221931    | 0.8309285    | 6.650403     | 0.4071264    | 0.0005439719 | 0.011624367  | 0.2168728    | 0.007349873  |\n",
       "| 0.01234337   | 0.11333042   | 0.10857923   | 0.07146418   | 0.7722869    | 0.7558330    | 7.353509     | 0.3647518    | 0.0007013515 | 0.007229164  | 0.2513442    | 0.009532621  |\n",
       "| 0.01254206   | 0.15690694   | 0.13540159   | 0.11413795   | 0.7207096    | 0.7672491    | 7.648861     | 0.3950344    | 0.0011519443 | 0.007412825  | 0.2740114    | 0.009039179  |\n",
       "| 0.01153667   | 0.12844015   | 0.03406002   | 0.05990051   | 0.6666423    | 0.7752394    | 8.278668     | 0.4104048    | 0.0012156833 | 0.006374144  | 0.2824273    | 0.007690832  |\n",
       "| 0.01312783   | 0.13579590   | 0.12822139   | 0.13025176   | 0.6038864    | 0.6611322    | 7.179871     | 0.3478556    | 0.0003779983 | 0.007195051  | 0.2878441    | 0.007927715  |\n",
       "| 0.01246669   | 0.09664900   | 0.03635899   | 0.07133786   | 0.6217167    | 0.7292640    | 7.606843     | 0.3739359    | 0.0011768713 | 0.009122198  | 0.2679756    | 0.007750752  |\n",
       "| 0.01138818   | 0.13320349   | 0.09471857   | 0.09254904   | 0.6275001    | 0.7094455    | 8.190392     | 0.3887325    | 0.0007248655 | 0.007199295  | 0.2834573    | 0.007146086  |\n",
       "| 0.01300788   | 0.09371948   | 0.06258517   | 0.06702540   | 0.5750127    | 0.7264565    | 7.232555     | 0.3632571    | 0.0005733854 | 0.007528219  | 0.2714480    | 0.007479694  |\n",
       "| 0.01182133   | 0.13039929   | 0.05599733   | 0.08759599   | 0.4438703    | 0.8063149    | 7.693607     | 0.4150746    | 0.0016022912 | 0.010714548  | 0.2491166    | 0.005247137  |\n",
       "\n"
      ],
      "text/plain": [
       "      FF_a       FF_b       FF_c       FF_d       FF_e      FF_f      FF_g    \n",
       " [1,] 0.01277658 0.11592280 0.06559776 0.07159565 0.7507004 0.8163060 6.425234\n",
       " [2,] 0.01181285 0.14281229 0.02650091 0.06741297 0.6221931 0.8309285 6.650403\n",
       " [3,] 0.01234337 0.11333042 0.10857923 0.07146418 0.7722869 0.7558330 7.353509\n",
       " [4,] 0.01254206 0.15690694 0.13540159 0.11413795 0.7207096 0.7672491 7.648861\n",
       " [5,] 0.01153667 0.12844015 0.03406002 0.05990051 0.6666423 0.7752394 8.278668\n",
       " [6,] 0.01312783 0.13579590 0.12822139 0.13025176 0.6038864 0.6611322 7.179871\n",
       " [7,] 0.01246669 0.09664900 0.03635899 0.07133786 0.6217167 0.7292640 7.606843\n",
       " [8,] 0.01138818 0.13320349 0.09471857 0.09254904 0.6275001 0.7094455 8.190392\n",
       " [9,] 0.01300788 0.09371948 0.06258517 0.06702540 0.5750127 0.7264565 7.232555\n",
       "[10,] 0.01182133 0.13039929 0.05599733 0.08759599 0.4438703 0.8063149 7.693607\n",
       "      FF_h      FF_FTF       FF_BPFI     FF_BPFO   FF_BSF     \n",
       " [1,] 0.4191231 0.0020721861 0.013422324 0.2195551 0.009591382\n",
       " [2,] 0.4071264 0.0005439719 0.011624367 0.2168728 0.007349873\n",
       " [3,] 0.3647518 0.0007013515 0.007229164 0.2513442 0.009532621\n",
       " [4,] 0.3950344 0.0011519443 0.007412825 0.2740114 0.009039179\n",
       " [5,] 0.4104048 0.0012156833 0.006374144 0.2824273 0.007690832\n",
       " [6,] 0.3478556 0.0003779983 0.007195051 0.2878441 0.007927715\n",
       " [7,] 0.3739359 0.0011768713 0.009122198 0.2679756 0.007750752\n",
       " [8,] 0.3887325 0.0007248655 0.007199295 0.2834573 0.007146086\n",
       " [9,] 0.3632571 0.0005733854 0.007528219 0.2714480 0.007479694\n",
       "[10,] 0.4150746 0.0016022912 0.010714548 0.2491166 0.005247137"
      ]
     },
     "metadata": {},
     "output_type": "display_data"
    }
   ],
   "source": [
    "FF_a <- Magnitude_1X\n",
    "FF_b <- Magnitude_under0p49x / Magnitude_1X\n",
    "FF_c <- Magnitude_0p5x / Magnitude_1X\n",
    "FF_d <- Magnitude_0p51to0p99x / Magnitude_1X\n",
    "FF_e <- Magnitude_2X / Magnitude_1X\n",
    "FF_f <- Magnitude_3to5x / Magnitude_1X\n",
    "FF_g <- apply(rbind(Magnitude_3X, Magnitude_5X, Magnitude_7X, Magnitude_9X), 2, mean) / Magnitude_1X\n",
    "FF_h <- Magnitude_1to10x / Magnitude_1X\n",
    "FF_FTF <- Magnitude_FTF\n",
    "FF_BPFI <- Magnitude_BPFI\n",
    "FF_BPFO <- Magnitude_BPFO\n",
    "FF_BSF <- Magnitude_BSF\n",
    "\n",
    "Freq_Featureset <- cbind(FF_a, FF_b, FF_c, FF_d, FF_e, FF_f, FF_g, FF_h, FF_FTF, FF_BPFI, FF_BPFO, FF_BSF)\n",
    "Freq_Featureset"
   ]
  },
  {
   "cell_type": "code",
   "execution_count": 23,
   "metadata": {},
   "outputs": [],
   "source": [
    "Featureset <- cbind(Time_Featureset, Freq_Featureset)"
   ]
  },
  {
   "cell_type": "code",
   "execution_count": 18,
   "metadata": {},
   "outputs": [],
   "source": [
    "# Unbalance\n",
    "# Unbalance02_featureset <- Make_Featureset(unbalance[, 2])\n",
    "Unbalance03_featureset <- Make_Featureset(unbalance[, 3])\n",
    "Unbalance04_featureset <- Make_Featureset(unbalance[, 4])\n",
    "\n",
    "# Misalignment\n",
    "# Misalign02_featureset <- Make_Featureset(misalign[, 2])\n",
    "Misalign03_featureset <- Make_Featureset(misalign[, 3])\n",
    "\n",
    "# Innerrace_fault\n",
    "# Inner02_featureset <- Make_Featureset(inner[, 2])\n",
    "Inner03_featureset <- Make_Featureset(inner[, 3])\n",
    "Inner04_featureset <- Make_Featureset(inner[, 4])\n",
    "\n",
    "# Outerrace_fault\n",
    "# Outer02_featureset <- Make_Featureset(outer[, 2])\n",
    "Outer03_featureset <- Make_Featureset(outer[, 3])\n",
    "Outer04_featureset <- Make_Featureset(outer[, 4])"
   ]
  },
  {
   "cell_type": "code",
   "execution_count": 19,
   "metadata": {},
   "outputs": [],
   "source": [
    "Featureset_Total <- rbind(Unbalance03_featureset, Unbalance04_featureset,\n",
    "                          Misalign03_featureset, \n",
    "                          Inner03_featureset, Inner04_featureset,\n",
    "                          Outer03_featureset, Outer04_featureset)\n",
    "rownames(Featureset_Total) <- NULL"
   ]
  },
  {
   "cell_type": "code",
   "execution_count": 21,
   "metadata": {},
   "outputs": [],
   "source": [
    "##### Data Save ----------------------------------------------------------------------------------\n",
    "save(Featureset_Total, file = 'saved_data/Featureset.rds')"
   ]
  }
 ],
 "metadata": {
  "kernelspec": {
   "display_name": "R",
   "language": "R",
   "name": "ir"
  },
  "language_info": {
   "codemirror_mode": "r",
   "file_extension": ".r",
   "mimetype": "text/x-r-source",
   "name": "R",
   "pygments_lexer": "r",
   "version": "3.5.1"
  }
 },
 "nbformat": 4,
 "nbformat_minor": 2
}
