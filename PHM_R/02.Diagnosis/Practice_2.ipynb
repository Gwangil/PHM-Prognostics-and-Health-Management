{
 "cells": [
  {
   "cell_type": "markdown",
   "metadata": {},
   "source": [
    "###### The original MATLAB code was developed by Prof. Hyunseok Oh (Gwangju Institute of Science and Technology, South Korea, hsoh@gist.ac.kr)."
   ]
  },
  {
   "cell_type": "markdown",
   "metadata": {},
   "source": [
    "# Dimension Reduction: PCA"
   ]
  },
  {
   "cell_type": "code",
   "execution_count": 1,
   "metadata": {},
   "outputs": [],
   "source": [
    "##### Load Featureset ----------------------------------------------------------------------------\n",
    "load('saved_data/Featureset.rds')"
   ]
  },
  {
   "cell_type": "code",
   "execution_count": 2,
   "metadata": {},
   "outputs": [],
   "source": [
    "##### Data Normalization -------------------------------------------------------------------------\n",
    "Normalized_data <- scale(Featureset_Total)"
   ]
  },
  {
   "cell_type": "code",
   "execution_count": 3,
   "metadata": {},
   "outputs": [],
   "source": [
    "##### Dimension Reduction: PCA -------------------------------------------------------------------\n",
    "covx <- cov(Normalized_data)\n",
    "\n",
    "pca <- princomp(Normalized_data)\n",
    "\n",
    "score <- pca$scores\n",
    "coeff <- pca$loadings  # eigen(covx)$vectors\n",
    "explained <- (pca$sdev^2 / sum(pca$sdev^2)) * 100\n",
    "latent <- eigen(covx)$values\n",
    "mu <- pca$center\n",
    "# tsquared : Hotelling T squared do not use this time"
   ]
  },
  {
   "cell_type": "code",
   "execution_count": null,
   "metadata": {},
   "outputs": [],
   "source": [
    "##### Save PCA Results ---------------------------------------------------------------------------\n",
    "save(coeff, explained, latent, mu, score, file = 'saved_data/pca.rds')"
   ]
  }
 ],
 "metadata": {
  "kernelspec": {
   "display_name": "R",
   "language": "R",
   "name": "ir"
  },
  "language_info": {
   "codemirror_mode": "r",
   "file_extension": ".r",
   "mimetype": "text/x-r-source",
   "name": "R",
   "pygments_lexer": "r",
   "version": "3.5.1"
  }
 },
 "nbformat": 4,
 "nbformat_minor": 2
}
