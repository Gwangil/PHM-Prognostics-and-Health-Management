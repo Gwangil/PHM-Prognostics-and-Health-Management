{
 "cells": [
  {
   "cell_type": "markdown",
   "metadata": {},
   "source": [
    "###### The original MATLAB code was developed by Prof. Hyunseok Oh (Gwangju Institute of Science and Technology, South Korea, hsoh@gist.ac.kr)."
   ]
  },
  {
   "cell_type": "markdown",
   "metadata": {},
   "source": [
    "# Visualization training and test data set"
   ]
  },
  {
   "cell_type": "code",
   "execution_count": 1,
   "metadata": {},
   "outputs": [],
   "source": [
    "##### Load PCA Result and function ---------------------------------------------------------------\n",
    "load('saved_data/pca.rds')\n",
    "source('subfunction/Train_Test_Plot.R')"
   ]
  },
  {
   "cell_type": "code",
   "execution_count": 2,
   "metadata": {},
   "outputs": [],
   "source": [
    "##### Set Training, Test Data (Randomized Selection) ---------------------------------------------\n",
    "# pca_data <- score[, 1:3]\n",
    "# y_label <- rep(1:4, times = c(20, 10, 20, 20))\n",
    "# \n",
    "# idx <- sample(1:nrow(pca_data), nrow(pca_data) * 0.2)\n",
    "# \n",
    "# train_data <- pca_data[-idx, ]\n",
    "# train_label <- y_label[-idx]\n",
    "# \n",
    "# test_data <- pca_data[idx, ]\n",
    "# test_label <- y_label[idx]"
   ]
  },
  {
   "cell_type": "code",
   "execution_count": 3,
   "metadata": {},
   "outputs": [],
   "source": [
    "##### Set Training, Test Data (Deterministic Selection) ------------------------------------------\n",
    "pca_data <- score[, 1:3]\n",
    "\n",
    "Unbalance_F1 <- pca_data[1:10, ]\n",
    "Unbalance_F2 <- pca_data[11:20, ]\n",
    "Misalign_F1 <- pca_data[21:30, ]\n",
    "Inner_F1 <- pca_data[31:40, ]\n",
    "Inner_F2 <- pca_data[41:50, ]\n",
    "Outer_F1 <- pca_data[51:60, ]\n",
    "Outer_F2 <- pca_data[61:70, ]"
   ]
  },
  {
   "cell_type": "code",
   "execution_count": 4,
   "metadata": {},
   "outputs": [],
   "source": [
    "train_data <- rbind(Unbalance_F1[1:8, ], Unbalance_F2[1:8, ], Misalign_F1[1:8, ],\n",
    "                    Inner_F1[1:8, ], Inner_F2[1:8, ], Outer_F1[1:8, ], Outer_F2[1:8, ])\n",
    "train_label <- rep(1:4, times = c(20, 10, 20, 20) * 0.8)\n",
    "\n",
    "test_data <- rbind(Unbalance_F1[9:10, ], Unbalance_F2[9:10, ], Misalign_F1[9:10, ],\n",
    "                   Inner_F1[9:10, ], Inner_F2[9:10, ], Outer_F1[9:10, ], Outer_F2[9:10, ])\n",
    "test_label <- rep(1:4, times = c(20, 10, 20, 20) * 0.2)"
   ]
  },
  {
   "cell_type": "markdown",
   "metadata": {},
   "source": [
    "Recommand) Run next code using R console or Rstudio"
   ]
  },
  {
   "cell_type": "code",
   "execution_count": 5,
   "metadata": {},
   "outputs": [],
   "source": [
    "##### PCA Plot -----------------------------------------------------------------------------------\n",
    "Train_Test_Plot(train_data, train_label, test_data, test_label)"
   ]
  }
 ],
 "metadata": {
  "kernelspec": {
   "display_name": "R",
   "language": "R",
   "name": "ir"
  },
  "language_info": {
   "codemirror_mode": "r",
   "file_extension": ".r",
   "mimetype": "text/x-r-source",
   "name": "R",
   "pygments_lexer": "r",
   "version": "3.5.1"
  }
 },
 "nbformat": 4,
 "nbformat_minor": 2
}
