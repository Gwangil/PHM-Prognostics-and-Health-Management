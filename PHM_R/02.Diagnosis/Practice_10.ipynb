{
 "cells": [
  {
   "cell_type": "markdown",
   "metadata": {},
   "source": [
    "###### The original MATLAB code was developed by Prof. Hyunseok Oh (Gwangju Institute of Science and Technology, South Korea, hsoh@gist.ac.kr)."
   ]
  },
  {
   "cell_type": "markdown",
   "metadata": {},
   "source": [
    "# ANN : Artificial Neural Network"
   ]
  },
  {
   "cell_type": "code",
   "execution_count": 1,
   "metadata": {},
   "outputs": [],
   "source": [
    "##### Load Data ----------------------------------------------------------------------------------\n",
    "load('saved_data/pca.rds')"
   ]
  },
  {
   "cell_type": "code",
   "execution_count": 3,
   "metadata": {},
   "outputs": [],
   "source": [
    "##### Split Data Set -----------------------------------------------------------------------------\n",
    "library(keras)\n",
    "\n",
    "pca_train_data = score[, 1:3]\n",
    "# y_label <- matrix(0, 70, 4)\n",
    "# y_ctgr <- cbind(1:70, 'y_label' = factor(c(rep(1, 20), rep(2, 10), rep(3, 20), rep(4, 20))))\n",
    "# y_label[y_ctgr] <- 1\n",
    "y_label <- to_categorical(c(rep(1, 20), rep(2, 10), rep(3, 20), rep(4, 20)))[, -1]\n",
    "y_ctgr <- c(rep(1, 20), rep(2, 10), rep(3, 20), rep(4, 20))\n",
    "\n",
    "idx <- sample(1:3, size = nrow(pca_train_data), prob = c(0.6, 0.2, 0.2), replace = T)\n",
    "\n",
    "input_train <- pca_train_data[idx == 1, ]\n",
    "output_train <- y_label[idx == 1, ]\n",
    "real_train <- y_ctgr[idx == 1]\n",
    "input_valid <- pca_train_data[idx == 2, ]\n",
    "output_valid <- y_label[idx == 2, ]\n",
    "real_valid <- y_ctgr[idx == 2]\n",
    "input_test <- pca_train_data[idx == 3, ]\n",
    "output_test <- y_label[idx == 3, ]\n",
    "real_test <- y_ctgr[idx == 3]"
   ]
  },
  {
   "cell_type": "code",
   "execution_count": 16,
   "metadata": {},
   "outputs": [],
   "source": [
    "model <- keras_model_sequential()\n",
    "model %>% \n",
    "  layer_dense(units = 10, activation = \"softmax\", input_shape = c(3)) %>% \n",
    "  layer_dense(unit = 4, activation = 'softmax')\n",
    "\n",
    "model %>% compile(\n",
    "  optimizer = optimizer_sgd(lr = 0.01),\n",
    "  loss = loss_categorical_crossentropy,\n",
    "  metric = 'accuracy'\n",
    ")\n",
    "\n",
    "history <- model %>% fit(\n",
    "  x = input_train,\n",
    "  y = output_train,\n",
    "  batch_size = 1,\n",
    "  epochs = 1000,\n",
    "  validation_data = list(input_valid, output_valid),\n",
    "  callbacks = callback_early_stopping(monitor = \"val_loss\",\n",
    "                                      min_delta = 0,\n",
    "                                      patience = 0,\n",
    "                                      verbose = 1),\n",
    "  view_metrics = T\n",
    ")"
   ]
  },
  {
   "cell_type": "code",
   "execution_count": 17,
   "metadata": {},
   "outputs": [
    {
     "data": {
      "text/html": [
       "<table>\n",
       "<thead><tr><th scope=col>real_test</th><th scope=col>pred_test</th></tr></thead>\n",
       "<tbody>\n",
       "\t<tr><td>1</td><td>1</td></tr>\n",
       "\t<tr><td>1</td><td>1</td></tr>\n",
       "\t<tr><td>1</td><td>1</td></tr>\n",
       "\t<tr><td>1</td><td>1</td></tr>\n",
       "\t<tr><td>1</td><td>1</td></tr>\n",
       "\t<tr><td>2</td><td>2</td></tr>\n",
       "\t<tr><td>2</td><td>2</td></tr>\n",
       "\t<tr><td>2</td><td>2</td></tr>\n",
       "\t<tr><td>3</td><td>3</td></tr>\n",
       "\t<tr><td>3</td><td>3</td></tr>\n",
       "\t<tr><td>4</td><td>3</td></tr>\n",
       "\t<tr><td>4</td><td>4</td></tr>\n",
       "\t<tr><td>4</td><td>3</td></tr>\n",
       "\t<tr><td>4</td><td>3</td></tr>\n",
       "\t<tr><td>4</td><td>3</td></tr>\n",
       "\t<tr><td>4</td><td>4</td></tr>\n",
       "</tbody>\n",
       "</table>\n"
      ],
      "text/latex": [
       "\\begin{tabular}{r|ll}\n",
       " real\\_test & pred\\_test\\\\\n",
       "\\hline\n",
       "\t 1 & 1\\\\\n",
       "\t 1 & 1\\\\\n",
       "\t 1 & 1\\\\\n",
       "\t 1 & 1\\\\\n",
       "\t 1 & 1\\\\\n",
       "\t 2 & 2\\\\\n",
       "\t 2 & 2\\\\\n",
       "\t 2 & 2\\\\\n",
       "\t 3 & 3\\\\\n",
       "\t 3 & 3\\\\\n",
       "\t 4 & 3\\\\\n",
       "\t 4 & 4\\\\\n",
       "\t 4 & 3\\\\\n",
       "\t 4 & 3\\\\\n",
       "\t 4 & 3\\\\\n",
       "\t 4 & 4\\\\\n",
       "\\end{tabular}\n"
      ],
      "text/markdown": [
       "\n",
       "| real_test | pred_test |\n",
       "|---|---|\n",
       "| 1 | 1 |\n",
       "| 1 | 1 |\n",
       "| 1 | 1 |\n",
       "| 1 | 1 |\n",
       "| 1 | 1 |\n",
       "| 2 | 2 |\n",
       "| 2 | 2 |\n",
       "| 2 | 2 |\n",
       "| 3 | 3 |\n",
       "| 3 | 3 |\n",
       "| 4 | 3 |\n",
       "| 4 | 4 |\n",
       "| 4 | 3 |\n",
       "| 4 | 3 |\n",
       "| 4 | 3 |\n",
       "| 4 | 4 |\n",
       "\n"
      ],
      "text/plain": [
       "   real_test pred_test\n",
       "1  1         1        \n",
       "2  1         1        \n",
       "3  1         1        \n",
       "4  1         1        \n",
       "5  1         1        \n",
       "6  2         2        \n",
       "7  2         2        \n",
       "8  2         2        \n",
       "9  3         3        \n",
       "10 3         3        \n",
       "11 4         3        \n",
       "12 4         4        \n",
       "13 4         3        \n",
       "14 4         3        \n",
       "15 4         3        \n",
       "16 4         4        "
      ]
     },
     "metadata": {},
     "output_type": "display_data"
    }
   ],
   "source": [
    "pred_train <- predict_classes(model, input_train) + 1\n",
    "pred_valid <- predict_classes(model, input_valid) + 1\n",
    "pred_test <- predict_classes(model, input_test) + 1\n",
    "\n",
    "data.frame(real_test, pred_test)"
   ]
  },
  {
   "cell_type": "code",
   "execution_count": 18,
   "metadata": {},
   "outputs": [
    {
     "data": {
      "text/plain": [
       "          pred_train\n",
       "real_train  1  2  3  4\n",
       "         1  9  0  0  0\n",
       "         2  0  6  0  0\n",
       "         3  0  0 15  0\n",
       "         4  0  0  3  6"
      ]
     },
     "metadata": {},
     "output_type": "display_data"
    },
    {
     "data": {
      "text/plain": [
       "          pred_train\n",
       "real_train         1         2         3         4\n",
       "         1 23.076923  0.000000  0.000000  0.000000\n",
       "         2  0.000000 15.384615  0.000000  0.000000\n",
       "         3  0.000000  0.000000 38.461538  0.000000\n",
       "         4  0.000000  0.000000  7.692308 15.384615"
      ]
     },
     "metadata": {},
     "output_type": "display_data"
    },
    {
     "data": {
      "text/plain": [
       "          pred_train\n",
       "real_train         1         2         3         4\n",
       "         1 100.00000   0.00000   0.00000   0.00000\n",
       "         2   0.00000 100.00000   0.00000   0.00000\n",
       "         3   0.00000   0.00000 100.00000   0.00000\n",
       "         4   0.00000   0.00000  33.33333  66.66667"
      ]
     },
     "metadata": {},
     "output_type": "display_data"
    },
    {
     "data": {
      "text/plain": [
       "          pred_train\n",
       "real_train         1         2         3         4\n",
       "         1 100.00000   0.00000   0.00000   0.00000\n",
       "         2   0.00000 100.00000   0.00000   0.00000\n",
       "         3   0.00000   0.00000  83.33333   0.00000\n",
       "         4   0.00000   0.00000  16.66667 100.00000"
      ]
     },
     "metadata": {},
     "output_type": "display_data"
    }
   ],
   "source": [
    "table(real_train, pred_train)\n",
    "prop.table(table(real_train, pred_train)) * 100\n",
    "prop.table(table(real_train, pred_train) , 1) * 100\n",
    "prop.table(table(real_train, pred_train) , 2) * 100"
   ]
  },
  {
   "cell_type": "code",
   "execution_count": 19,
   "metadata": {},
   "outputs": [
    {
     "data": {
      "text/plain": [
       "         pred_test\n",
       "real_test 1 2 3 4\n",
       "        1 5 0 0 0\n",
       "        2 0 3 0 0\n",
       "        3 0 0 2 0\n",
       "        4 0 0 4 2"
      ]
     },
     "metadata": {},
     "output_type": "display_data"
    },
    {
     "data": {
      "text/plain": [
       "         pred_test\n",
       "real_test     1     2     3     4\n",
       "        1 31.25  0.00  0.00  0.00\n",
       "        2  0.00 18.75  0.00  0.00\n",
       "        3  0.00  0.00 12.50  0.00\n",
       "        4  0.00  0.00 25.00 12.50"
      ]
     },
     "metadata": {},
     "output_type": "display_data"
    },
    {
     "data": {
      "text/plain": [
       "         pred_test\n",
       "real_test         1         2         3         4\n",
       "        1 100.00000   0.00000   0.00000   0.00000\n",
       "        2   0.00000 100.00000   0.00000   0.00000\n",
       "        3   0.00000   0.00000 100.00000   0.00000\n",
       "        4   0.00000   0.00000  66.66667  33.33333"
      ]
     },
     "metadata": {},
     "output_type": "display_data"
    },
    {
     "data": {
      "text/plain": [
       "         pred_test\n",
       "real_test         1         2         3         4\n",
       "        1 100.00000   0.00000   0.00000   0.00000\n",
       "        2   0.00000 100.00000   0.00000   0.00000\n",
       "        3   0.00000   0.00000  33.33333   0.00000\n",
       "        4   0.00000   0.00000  66.66667 100.00000"
      ]
     },
     "metadata": {},
     "output_type": "display_data"
    }
   ],
   "source": [
    "table(real_test, pred_test)\n",
    "prop.table(table(real_test, pred_test)) * 100\n",
    "prop.table(table(real_test, pred_test) , 1) * 100\n",
    "prop.table(table(real_test, pred_test) , 2) * 100"
   ]
  }
 ],
 "metadata": {
  "kernelspec": {
   "display_name": "R",
   "language": "R",
   "name": "ir"
  },
  "language_info": {
   "codemirror_mode": "r",
   "file_extension": ".r",
   "mimetype": "text/x-r-source",
   "name": "R",
   "pygments_lexer": "r",
   "version": "3.5.1"
  }
 },
 "nbformat": 4,
 "nbformat_minor": 2
}
