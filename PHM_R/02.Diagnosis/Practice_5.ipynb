{
 "cells": [
  {
   "cell_type": "markdown",
   "metadata": {},
   "source": [
    "###### The original MATLAB code was developed by Prof. Hyunseok Oh (Gwangju Institute of Science and Technology, South Korea, hsoh@gist.ac.kr)."
   ]
  },
  {
   "cell_type": "markdown",
   "metadata": {},
   "source": [
    "# Linear SVM"
   ]
  },
  {
   "cell_type": "code",
   "execution_count": 2,
   "metadata": {},
   "outputs": [],
   "source": [
    "##### Load Data and function----------------------------------------------------------------------\n",
    "load('saved_data/train_test_data.rds')\n",
    "source('subfunction/Real_Predict_Plot.R')"
   ]
  },
  {
   "cell_type": "code",
   "execution_count": 3,
   "metadata": {},
   "outputs": [],
   "source": [
    "##### Linear SVM ---------------------------------------------------------------------------------\n",
    "# Training\n",
    "library(e1071)\n",
    "Linear_Model <- svm(y = train_label, x = train_data, data = data.frame(train_data, train_label),\n",
    "                    type = 'C-classification',\n",
    "                    kernel = 'linear',\n",
    "                    cost = 1)\n",
    "\n",
    "Linear_Model <- svm(y = train_label, x = train_data, data = data.frame(train_data, train_label),\n",
    "                    type = 'C-classification',\n",
    "                    kernel = 'polynomial',\n",
    "                    degree = 1,\n",
    "                    coef0 = 0,  # polynomial kernel with degree = 1, coef0 = 0 is equivalent linear kernel in Matlab\n",
    "                    cost = 1,  # BoxConstraint in Matlab == cost in R\n",
    "                    gamma = 1)  # gamma = 1 in R == sigma(Kernelscale)^2 in Matlab"
   ]
  },
  {
   "cell_type": "code",
   "execution_count": 4,
   "metadata": {},
   "outputs": [],
   "source": [
    "# Test\n",
    "predict_label <- predict(Linear_Model, newdata = data.frame(test_data))\n",
    "Linear_test_accuracy <- sum(predict_label == test_label) / length(test_label) * 100"
   ]
  },
  {
   "cell_type": "code",
   "execution_count": 9,
   "metadata": {
    "scrolled": false
   },
   "outputs": [
    {
     "data": {
      "text/html": [
       "<table>\n",
       "<thead><tr><th scope=col>test_label</th><th scope=col>predict_label</th></tr></thead>\n",
       "<tbody>\n",
       "\t<tr><td>1</td><td>1</td></tr>\n",
       "\t<tr><td>1</td><td>1</td></tr>\n",
       "\t<tr><td>1</td><td>1</td></tr>\n",
       "\t<tr><td>1</td><td>1</td></tr>\n",
       "\t<tr><td>2</td><td>2</td></tr>\n",
       "\t<tr><td>2</td><td>2</td></tr>\n",
       "\t<tr><td>3</td><td>1</td></tr>\n",
       "\t<tr><td>3</td><td>1</td></tr>\n",
       "\t<tr><td>3</td><td>4</td></tr>\n",
       "\t<tr><td>3</td><td>3</td></tr>\n",
       "\t<tr><td>4</td><td>1</td></tr>\n",
       "\t<tr><td>4</td><td>1</td></tr>\n",
       "\t<tr><td>4</td><td>4</td></tr>\n",
       "\t<tr><td>4</td><td>4</td></tr>\n",
       "</tbody>\n",
       "</table>\n"
      ],
      "text/latex": [
       "\\begin{tabular}{r|ll}\n",
       " test\\_label & predict\\_label\\\\\n",
       "\\hline\n",
       "\t 1 & 1\\\\\n",
       "\t 1 & 1\\\\\n",
       "\t 1 & 1\\\\\n",
       "\t 1 & 1\\\\\n",
       "\t 2 & 2\\\\\n",
       "\t 2 & 2\\\\\n",
       "\t 3 & 1\\\\\n",
       "\t 3 & 1\\\\\n",
       "\t 3 & 4\\\\\n",
       "\t 3 & 3\\\\\n",
       "\t 4 & 1\\\\\n",
       "\t 4 & 1\\\\\n",
       "\t 4 & 4\\\\\n",
       "\t 4 & 4\\\\\n",
       "\\end{tabular}\n"
      ],
      "text/markdown": [
       "\n",
       "| test_label | predict_label |\n",
       "|---|---|\n",
       "| 1 | 1 |\n",
       "| 1 | 1 |\n",
       "| 1 | 1 |\n",
       "| 1 | 1 |\n",
       "| 2 | 2 |\n",
       "| 2 | 2 |\n",
       "| 3 | 1 |\n",
       "| 3 | 1 |\n",
       "| 3 | 4 |\n",
       "| 3 | 3 |\n",
       "| 4 | 1 |\n",
       "| 4 | 1 |\n",
       "| 4 | 4 |\n",
       "| 4 | 4 |\n",
       "\n"
      ],
      "text/plain": [
       "   test_label predict_label\n",
       "1  1          1            \n",
       "2  1          1            \n",
       "3  1          1            \n",
       "4  1          1            \n",
       "5  2          2            \n",
       "6  2          2            \n",
       "7  3          1            \n",
       "8  3          1            \n",
       "9  3          4            \n",
       "10 3          3            \n",
       "11 4          1            \n",
       "12 4          1            \n",
       "13 4          4            \n",
       "14 4          4            "
      ]
     },
     "metadata": {},
     "output_type": "display_data"
    },
    {
     "name": "stdout",
     "output_type": "stream",
     "text": [
      "Linear_test_accuracy:  64.28571"
     ]
    }
   ],
   "source": [
    "data.frame(test_label, predict_label)\n",
    "cat(\"Linear_test_accuracy: \", Linear_test_accuracy)"
   ]
  },
  {
   "cell_type": "markdown",
   "metadata": {},
   "source": [
    "Recommand) Run next code using R console or Rstudio"
   ]
  },
  {
   "cell_type": "code",
   "execution_count": 4,
   "metadata": {},
   "outputs": [],
   "source": [
    "##### Plot ---------------------------------------------------------------------------------------\n",
    "# Plot Real and Predict Data\n",
    "Real_Predict_Plot(predict_label, test_data, test_label)"
   ]
  }
 ],
 "metadata": {
  "kernelspec": {
   "display_name": "R",
   "language": "R",
   "name": "ir"
  },
  "language_info": {
   "codemirror_mode": "r",
   "file_extension": ".r",
   "mimetype": "text/x-r-source",
   "name": "R",
   "pygments_lexer": "r",
   "version": "3.5.1"
  }
 },
 "nbformat": 4,
 "nbformat_minor": 2
}
