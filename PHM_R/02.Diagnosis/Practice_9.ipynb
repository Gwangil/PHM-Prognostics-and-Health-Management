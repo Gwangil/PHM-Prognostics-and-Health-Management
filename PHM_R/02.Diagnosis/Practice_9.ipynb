{
 "cells": [
  {
   "cell_type": "markdown",
   "metadata": {},
   "source": [
    "###### The original MATLAB code was developed by Prof. Hyunseok Oh (Gwangju Institute of Science and Technology, South Korea, hsoh@gist.ac.kr)."
   ]
  },
  {
   "cell_type": "markdown",
   "metadata": {},
   "source": [
    "# SVM Prediction Test"
   ]
  },
  {
   "cell_type": "code",
   "execution_count": 3,
   "metadata": {},
   "outputs": [],
   "source": [
    "##### Load Data and function----------------------------------------------------------------------\n",
    "load('saved_data/train_test_valid_data.rds')\n",
    "source('subfunction/Real_Predict_2DPlot.R')"
   ]
  },
  {
   "cell_type": "code",
   "execution_count": 4,
   "metadata": {},
   "outputs": [],
   "source": [
    "##### SVM Test -----------------------------------------------------------------------------------\n",
    "library(e1071)\n",
    "\n",
    "Gaussian_SVM <- svm(y = train_label, x = train_data, data = data.frame(train_data, train_label),\n",
    "                    type = 'C-classification',\n",
    "                    cost = 1,\n",
    "                    kernel = 'radial',\n",
    "                    gamma = 1)"
   ]
  },
  {
   "cell_type": "code",
   "execution_count": 5,
   "metadata": {},
   "outputs": [
    {
     "data": {
      "text/html": [
       "<table>\n",
       "<thead><tr><th scope=col>test_label</th><th scope=col>predict_label</th></tr></thead>\n",
       "<tbody>\n",
       "\t<tr><td>1</td><td>1</td></tr>\n",
       "\t<tr><td>1</td><td>1</td></tr>\n",
       "\t<tr><td>1</td><td>1</td></tr>\n",
       "\t<tr><td>1</td><td>1</td></tr>\n",
       "\t<tr><td>2</td><td>2</td></tr>\n",
       "\t<tr><td>2</td><td>2</td></tr>\n",
       "\t<tr><td>3</td><td>1</td></tr>\n",
       "\t<tr><td>3</td><td>1</td></tr>\n",
       "\t<tr><td>3</td><td>3</td></tr>\n",
       "\t<tr><td>3</td><td>3</td></tr>\n",
       "\t<tr><td>4</td><td>3</td></tr>\n",
       "\t<tr><td>4</td><td>1</td></tr>\n",
       "\t<tr><td>4</td><td>3</td></tr>\n",
       "\t<tr><td>4</td><td>4</td></tr>\n",
       "</tbody>\n",
       "</table>\n"
      ],
      "text/latex": [
       "\\begin{tabular}{r|ll}\n",
       " test\\_label & predict\\_label\\\\\n",
       "\\hline\n",
       "\t 1 & 1\\\\\n",
       "\t 1 & 1\\\\\n",
       "\t 1 & 1\\\\\n",
       "\t 1 & 1\\\\\n",
       "\t 2 & 2\\\\\n",
       "\t 2 & 2\\\\\n",
       "\t 3 & 1\\\\\n",
       "\t 3 & 1\\\\\n",
       "\t 3 & 3\\\\\n",
       "\t 3 & 3\\\\\n",
       "\t 4 & 3\\\\\n",
       "\t 4 & 1\\\\\n",
       "\t 4 & 3\\\\\n",
       "\t 4 & 4\\\\\n",
       "\\end{tabular}\n"
      ],
      "text/markdown": [
       "\n",
       "| test_label | predict_label |\n",
       "|---|---|\n",
       "| 1 | 1 |\n",
       "| 1 | 1 |\n",
       "| 1 | 1 |\n",
       "| 1 | 1 |\n",
       "| 2 | 2 |\n",
       "| 2 | 2 |\n",
       "| 3 | 1 |\n",
       "| 3 | 1 |\n",
       "| 3 | 3 |\n",
       "| 3 | 3 |\n",
       "| 4 | 3 |\n",
       "| 4 | 1 |\n",
       "| 4 | 3 |\n",
       "| 4 | 4 |\n",
       "\n"
      ],
      "text/plain": [
       "   test_label predict_label\n",
       "1  1          1            \n",
       "2  1          1            \n",
       "3  1          1            \n",
       "4  1          1            \n",
       "5  2          2            \n",
       "6  2          2            \n",
       "7  3          1            \n",
       "8  3          1            \n",
       "9  3          3            \n",
       "10 3          3            \n",
       "11 4          3            \n",
       "12 4          1            \n",
       "13 4          3            \n",
       "14 4          4            "
      ]
     },
     "metadata": {},
     "output_type": "display_data"
    },
    {
     "name": "stdout",
     "output_type": "stream",
     "text": [
      "Test_accuracy:  64.28571"
     ]
    }
   ],
   "source": [
    "predict_label <- predict(Gaussian_SVM, test_data)\n",
    "Test_accuracy <- sum(predict_label == test_label) / length(test_label) * 100\n",
    "\n",
    "data.frame(test_label, predict_label)\n",
    "cat(\"Test_accuracy: \", Test_accuracy)"
   ]
  },
  {
   "cell_type": "code",
   "execution_count": 12,
   "metadata": {},
   "outputs": [
    {
     "data": {
      "image/png": "[encoded data removed]",
      "text/plain": [
       "plot without title"
      ]
     },
     "metadata": {},
     "output_type": "display_data"
    }
   ],
   "source": [
    "##### Plot ---------------------------------------------------------------------------------------\n",
    "options(repr.plot.width = 7, repr.plot.height = 5)\n",
    "Real_Predict_2DPlot(predict_label, test_data, test_label)"
   ]
  },
  {
   "cell_type": "markdown",
   "metadata": {},
   "source": [
    "Diamond points are predicted labels"
   ]
  }
 ],
 "metadata": {
  "kernelspec": {
   "display_name": "R",
   "language": "R",
   "name": "ir"
  },
  "language_info": {
   "codemirror_mode": "r",
   "file_extension": ".r",
   "mimetype": "text/x-r-source",
   "name": "R",
   "pygments_lexer": "r",
   "version": "3.5.1"
  }
 },
 "nbformat": 4,
 "nbformat_minor": 2
}
